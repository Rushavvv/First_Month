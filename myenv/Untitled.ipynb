{
 "cells": [
  {
   "cell_type": "code",
   "execution_count": 14,
   "id": "9b88179c-db83-402d-b1c8-38a120e44432",
   "metadata": {},
   "outputs": [],
   "source": [
    "def fac(x): \n",
    "    if x == 0: \n",
    "        return 1 \n",
    "    else:\n",
    "        return x * fac(x - 1)"
   ]
  },
  {
   "cell_type": "code",
   "execution_count": 16,
   "id": "4f630c95-a77b-4633-ab34-3912d0509a4b",
   "metadata": {},
   "outputs": [
    {
     "name": "stdout",
     "output_type": "stream",
     "text": [
      "1\n"
     ]
    }
   ],
   "source": [
    "print(fac(1))"
   ]
  },
  {
   "cell_type": "code",
   "execution_count": 27,
   "id": "6ab300db-4d2d-4d1d-8142-7b7dfad42bea",
   "metadata": {},
   "outputs": [
    {
     "name": "stdin",
     "output_type": "stream",
     "text": [
      "enter a word:  yay\n"
     ]
    },
    {
     "name": "stdout",
     "output_type": "stream",
     "text": [
      "yes\n"
     ]
    }
   ],
   "source": [
    "word = input(\"enter a word: \")\n",
    "rev_word = word[::-1]\n",
    "if rev_word == word:\n",
    "    print(\"yes\")\n",
    "else:\n",
    "    print(\"no\")"
   ]
  },
  {
   "cell_type": "code",
   "execution_count": null,
   "id": "375ab3f7-f57b-4eb3-878c-b4f471c60698",
   "metadata": {},
   "outputs": [],
   "source": []
  }
 ],
 "metadata": {
  "kernelspec": {
   "display_name": "Python [conda env:base] *",
   "language": "python",
   "name": "conda-base-py"
  },
  "language_info": {
   "codemirror_mode": {
    "name": "ipython",
    "version": 3
   },
   "file_extension": ".py",
   "mimetype": "text/x-python",
   "name": "python",
   "nbconvert_exporter": "python",
   "pygments_lexer": "ipython3",
   "version": "3.12.7"
  }
 },
 "nbformat": 4,
 "nbformat_minor": 5
}
